{
 "cells": [
  {
   "cell_type": "code",
   "execution_count": 13,
   "id": "f543ff70",
   "metadata": {},
   "outputs": [
    {
     "data": {
      "text/html": [
       "<div>\n",
       "<style scoped>\n",
       "    .dataframe tbody tr th:only-of-type {\n",
       "        vertical-align: middle;\n",
       "    }\n",
       "\n",
       "    .dataframe tbody tr th {\n",
       "        vertical-align: top;\n",
       "    }\n",
       "\n",
       "    .dataframe thead th {\n",
       "        text-align: right;\n",
       "    }\n",
       "</style>\n",
       "<table border=\"1\" class=\"dataframe\">\n",
       "  <thead>\n",
       "    <tr style=\"text-align: right;\">\n",
       "      <th></th>\n",
       "      <th>HeartDisease</th>\n",
       "      <th>Age</th>\n",
       "      <th>Male</th>\n",
       "      <th>ChestPainType</th>\n",
       "      <th>BloodPressure</th>\n",
       "      <th>Cholesterol</th>\n",
       "      <th>BloodSugar</th>\n",
       "      <th>EEG</th>\n",
       "      <th>MaxHR</th>\n",
       "      <th>Angina</th>\n",
       "      <th>OldPeak</th>\n",
       "      <th>PeakST</th>\n",
       "      <th>Flourosopy</th>\n",
       "      <th>Thal</th>\n",
       "    </tr>\n",
       "  </thead>\n",
       "  <tbody>\n",
       "    <tr>\n",
       "      <th>0</th>\n",
       "      <td>1</td>\n",
       "      <td>70</td>\n",
       "      <td>1</td>\n",
       "      <td>4</td>\n",
       "      <td>130</td>\n",
       "      <td>322</td>\n",
       "      <td>0</td>\n",
       "      <td>2</td>\n",
       "      <td>109</td>\n",
       "      <td>0</td>\n",
       "      <td>2.4</td>\n",
       "      <td>2</td>\n",
       "      <td>3</td>\n",
       "      <td>3</td>\n",
       "    </tr>\n",
       "    <tr>\n",
       "      <th>1</th>\n",
       "      <td>0</td>\n",
       "      <td>67</td>\n",
       "      <td>0</td>\n",
       "      <td>3</td>\n",
       "      <td>115</td>\n",
       "      <td>564</td>\n",
       "      <td>0</td>\n",
       "      <td>2</td>\n",
       "      <td>160</td>\n",
       "      <td>0</td>\n",
       "      <td>1.6</td>\n",
       "      <td>2</td>\n",
       "      <td>0</td>\n",
       "      <td>7</td>\n",
       "    </tr>\n",
       "    <tr>\n",
       "      <th>2</th>\n",
       "      <td>1</td>\n",
       "      <td>57</td>\n",
       "      <td>1</td>\n",
       "      <td>2</td>\n",
       "      <td>124</td>\n",
       "      <td>261</td>\n",
       "      <td>0</td>\n",
       "      <td>0</td>\n",
       "      <td>141</td>\n",
       "      <td>0</td>\n",
       "      <td>0.3</td>\n",
       "      <td>1</td>\n",
       "      <td>0</td>\n",
       "      <td>7</td>\n",
       "    </tr>\n",
       "    <tr>\n",
       "      <th>3</th>\n",
       "      <td>0</td>\n",
       "      <td>64</td>\n",
       "      <td>1</td>\n",
       "      <td>4</td>\n",
       "      <td>128</td>\n",
       "      <td>263</td>\n",
       "      <td>0</td>\n",
       "      <td>0</td>\n",
       "      <td>105</td>\n",
       "      <td>1</td>\n",
       "      <td>0.2</td>\n",
       "      <td>2</td>\n",
       "      <td>1</td>\n",
       "      <td>7</td>\n",
       "    </tr>\n",
       "    <tr>\n",
       "      <th>4</th>\n",
       "      <td>0</td>\n",
       "      <td>74</td>\n",
       "      <td>0</td>\n",
       "      <td>2</td>\n",
       "      <td>120</td>\n",
       "      <td>269</td>\n",
       "      <td>0</td>\n",
       "      <td>2</td>\n",
       "      <td>121</td>\n",
       "      <td>1</td>\n",
       "      <td>0.2</td>\n",
       "      <td>1</td>\n",
       "      <td>1</td>\n",
       "      <td>3</td>\n",
       "    </tr>\n",
       "  </tbody>\n",
       "</table>\n",
       "</div>"
      ],
      "text/plain": [
       "   HeartDisease  Age  Male  ChestPainType  BloodPressure  Cholesterol  \\\n",
       "0             1   70     1              4            130          322   \n",
       "1             0   67     0              3            115          564   \n",
       "2             1   57     1              2            124          261   \n",
       "3             0   64     1              4            128          263   \n",
       "4             0   74     0              2            120          269   \n",
       "\n",
       "   BloodSugar  EEG  MaxHR  Angina  OldPeak  PeakST  Flourosopy  Thal  \n",
       "0           0    2    109       0      2.4       2           3     3  \n",
       "1           0    2    160       0      1.6       2           0     7  \n",
       "2           0    0    141       0      0.3       1           0     7  \n",
       "3           0    0    105       1      0.2       2           1     7  \n",
       "4           0    2    121       1      0.2       1           1     3  "
      ]
     },
     "execution_count": 13,
     "metadata": {},
     "output_type": "execute_result"
    }
   ],
   "source": [
    "import pandas as pd\n",
    "import statsmodels.formula.api as smf\n",
    "from math import exp\n",
    "\n",
    "# load data\n",
    "heart = pd.read_csv('Heart.csv')\n",
    "heart.head()"
   ]
  },
  {
   "cell_type": "code",
   "execution_count": 7,
   "id": "81fe57b5",
   "metadata": {},
   "outputs": [
    {
     "name": "stdout",
     "output_type": "stream",
     "text": [
      "Optimization terminated successfully.\n",
      "         Current function value: 0.640593\n",
      "         Iterations 5\n"
     ]
    }
   ],
   "source": [
    "# craft logitic regression model to predict heart disease based on being male\n",
    "# spefication for the model\n",
    "heart_model_1 = smf.logit(formula = 'HeartDisease ~ Male', data = heart)\n",
    "\n",
    "# train the model from data\n",
    "# this is the actual model > fit > estimate the coefficient in the data\n",
    "model_1_results = heart_model_1.fit()"
   ]
  },
  {
   "cell_type": "code",
   "execution_count": 8,
   "id": "8b1fff6a",
   "metadata": {},
   "outputs": [
    {
     "name": "stdout",
     "output_type": "stream",
     "text": [
      "                           Logit Regression Results                           \n",
      "==============================================================================\n",
      "Dep. Variable:           HeartDisease   No. Observations:                  270\n",
      "Model:                          Logit   Df Residuals:                      268\n",
      "Method:                           MLE   Df Model:                            1\n",
      "Date:                Sun, 14 Jul 2024   Pseudo R-squ.:                 0.06750\n",
      "Time:                        22:42:05   Log-Likelihood:                -172.96\n",
      "converged:                       True   LL-Null:                       -185.48\n",
      "Covariance Type:            nonrobust   LLR p-value:                 5.618e-07\n",
      "==============================================================================\n",
      "                 coef    std err          z      P>|z|      [0.025      0.975]\n",
      "------------------------------------------------------------------------------\n",
      "Intercept     -1.2090      0.255     -4.745      0.000      -1.708      -0.710\n",
      "Male           1.3953      0.295      4.731      0.000       0.817       1.973\n",
      "==============================================================================\n"
     ]
    }
   ],
   "source": [
    "# what are the model results?\n",
    "# present findings\n",
    "print(model_1_results.summary())\n",
    "\n",
    "# first model\n",
    "# LL-Null = baseline model\n",
    "# Log-likelihood = our model (closer to zero > Better! than baseline model)\n",
    "# simple logistic regression > use only one feature (indepedent variable)"
   ]
  },
  {
   "cell_type": "code",
   "execution_count": 9,
   "id": "5cd7f791",
   "metadata": {},
   "outputs": [
    {
     "name": "stdout",
     "output_type": "stream",
     "text": [
      "Optimization terminated successfully.\n",
      "         Current function value: 0.607039\n",
      "         Iterations 5\n"
     ]
    }
   ],
   "source": [
    "# Second model\n",
    "# craft logistic regression to prodict heart disease using male and age\n",
    "heart_model_2 = smf.logit(formula= 'HeartDisease ~ Male + Age', data = heart)\n",
    "\n",
    "# train the model from data\n",
    "# this is the actual model > fit > estimate the coefficient in the data\n",
    "model_2_results = heart_model_2.fit()"
   ]
  },
  {
   "cell_type": "code",
   "execution_count": 10,
   "id": "3a9c28b5",
   "metadata": {},
   "outputs": [
    {
     "name": "stdout",
     "output_type": "stream",
     "text": [
      "                           Logit Regression Results                           \n",
      "==============================================================================\n",
      "Dep. Variable:           HeartDisease   No. Observations:                  270\n",
      "Model:                          Logit   Df Residuals:                      267\n",
      "Method:                           MLE   Df Model:                            2\n",
      "Date:                Sun, 14 Jul 2024   Pseudo R-squ.:                  0.1163\n",
      "Time:                        22:55:46   Log-Likelihood:                -163.90\n",
      "converged:                       True   LL-Null:                       -185.48\n",
      "Covariance Type:            nonrobust   LLR p-value:                 4.249e-10\n",
      "==============================================================================\n",
      "                 coef    std err          z      P>|z|      [0.025      0.975]\n",
      "------------------------------------------------------------------------------\n",
      "Intercept     -4.8637      0.959     -5.071      0.000      -6.744      -2.984\n",
      "Male           1.6222      0.315      5.156      0.000       1.006       2.239\n",
      "Age            0.0639      0.016      4.060      0.000       0.033       0.095\n",
      "==============================================================================\n"
     ]
    }
   ],
   "source": [
    "# what are the model results?\n",
    "# present findings\n",
    "print(model_2_results.summary())\n",
    "\n",
    "# Log-likelihood = our model (closer to zero > Better! than baseline model and 1st model)\n",
    "# Df Model = 2 (2 features)"
   ]
  },
  {
   "cell_type": "code",
   "execution_count": 11,
   "id": "ff4b52fe",
   "metadata": {},
   "outputs": [
    {
     "name": "stdout",
     "output_type": "stream",
     "text": [
      "Optimization terminated successfully.\n",
      "         Current function value: 0.538839\n",
      "         Iterations 6\n"
     ]
    }
   ],
   "source": [
    "# Third model\n",
    "# craft logistic regression to prodict heart disease using male, age, and Angina\n",
    "heart_model_3 = smf.logit(formula= 'HeartDisease ~ Male + Age + Angina', data = heart)\n",
    "\n",
    "# train the model from data\n",
    "# this is the actual model > fit > estimate the coefficient in the data\n",
    "model_3_results = heart_model_3.fit()"
   ]
  },
  {
   "cell_type": "code",
   "execution_count": 12,
   "id": "ed4baf37",
   "metadata": {},
   "outputs": [
    {
     "name": "stdout",
     "output_type": "stream",
     "text": [
      "                           Logit Regression Results                           \n",
      "==============================================================================\n",
      "Dep. Variable:           HeartDisease   No. Observations:                  270\n",
      "Model:                          Logit   Df Residuals:                      266\n",
      "Method:                           MLE   Df Model:                            3\n",
      "Date:                Sun, 14 Jul 2024   Pseudo R-squ.:                  0.2156\n",
      "Time:                        23:00:01   Log-Likelihood:                -145.49\n",
      "converged:                       True   LL-Null:                       -185.48\n",
      "Covariance Type:            nonrobust   LLR p-value:                 3.090e-17\n",
      "==============================================================================\n",
      "                 coef    std err          z      P>|z|      [0.025      0.975]\n",
      "------------------------------------------------------------------------------\n",
      "Intercept     -5.2011      1.030     -5.051      0.000      -7.219      -3.183\n",
      "Male           1.4648      0.333      4.404      0.000       0.813       2.117\n",
      "Age            0.0614      0.017      3.643      0.000       0.028       0.094\n",
      "Angina         1.7952      0.312      5.761      0.000       1.184       2.406\n",
      "==============================================================================\n"
     ]
    }
   ],
   "source": [
    "# what are the model results?\n",
    "# present findings\n",
    "print(model_3_results.summary())\n",
    "# Log-likelihood = our model (closer to zero > Better! than baseline model, 1st, and 2nd model)"
   ]
  },
  {
   "cell_type": "code",
   "execution_count": 14,
   "id": "031fe137",
   "metadata": {},
   "outputs": [
    {
     "name": "stdout",
     "output_type": "stream",
     "text": [
      "4.326528261966835\n"
     ]
    }
   ],
   "source": [
    "# interpreting coefficients\n",
    "# coefficient calcualtion to odds ratios\n",
    "print(exp(model_3_results.params['Male']))"
   ]
  },
  {
   "cell_type": "code",
   "execution_count": 16,
   "id": "7420472a",
   "metadata": {},
   "outputs": [
    {
     "name": "stdout",
     "output_type": "stream",
     "text": [
      "1.0633171823751426\n"
     ]
    }
   ],
   "source": [
    "# get the odds ratio for the age coefficient\n",
    "# 1 = for one year of age; .0633 = 6.3% likelihood\n",
    "print(exp(model_3_results.params['Age']))"
   ]
  },
  {
   "cell_type": "code",
   "execution_count": 15,
   "id": "a01d29f7",
   "metadata": {},
   "outputs": [
    {
     "name": "stdout",
     "output_type": "stream",
     "text": [
      "6.020938842080951\n"
     ]
    }
   ],
   "source": [
    "# get the odds ratio for the Angina coefficient\n",
    "print(exp(model_3_results.params['Angina']))"
   ]
  },
  {
   "cell_type": "markdown",
   "id": "c1bce935",
   "metadata": {},
   "source": [
    "## Interpreting 3rd model"
   ]
  },
  {
   "cell_type": "markdown",
   "id": "5e895a63",
   "metadata": {},
   "source": [
    "The model estimates that:\n",
    "    > Males are 4.33 times more likely to have heart disease\n",
    "    > Each year of age raises the relative risk of heart disease by 6.3%\n",
    "    > Patients with angina are 6 times more likely to have heart disease"
   ]
  }
 ],
 "metadata": {
  "kernelspec": {
   "display_name": "Python 3 (ipykernel)",
   "language": "python",
   "name": "python3"
  },
  "language_info": {
   "codemirror_mode": {
    "name": "ipython",
    "version": 3
   },
   "file_extension": ".py",
   "mimetype": "text/x-python",
   "name": "python",
   "nbconvert_exporter": "python",
   "pygments_lexer": "ipython3",
   "version": "3.11.5"
  }
 },
 "nbformat": 4,
 "nbformat_minor": 5
}
